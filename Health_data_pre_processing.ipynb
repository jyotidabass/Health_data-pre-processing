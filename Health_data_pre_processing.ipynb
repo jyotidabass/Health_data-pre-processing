{
  "nbformat": 4,
  "nbformat_minor": 0,
  "metadata": {
    "colab": {
      "name": "Health data_pre-processing.ipynb",
      "provenance": [],
      "authorship_tag": "ABX9TyMZcxoXStGNVM77uz08diWh",
      "include_colab_link": true
    },
    "kernelspec": {
      "name": "python3",
      "display_name": "Python 3"
    },
    "language_info": {
      "name": "python"
    }
  },
  "cells": [
    {
      "cell_type": "markdown",
      "metadata": {
        "id": "view-in-github",
        "colab_type": "text"
      },
      "source": [
        "<a href=\"https://colab.research.google.com/github/jyotidabass/Health_data-pre-processing/blob/main/Health_data_pre_processing.ipynb\" target=\"_parent\"><img src=\"https://colab.research.google.com/assets/colab-badge.svg\" alt=\"Open In Colab\"/></a>"
      ]
    },
    {
      "cell_type": "code",
      "execution_count": 30,
      "metadata": {
        "id": "XtV8OSgGYLYC"
      },
      "outputs": [],
      "source": [
        "# Import required libraries\n",
        "\n",
        "import numpy as np\n",
        "\n",
        "import pandas as pd"
      ]
    },
    {
      "cell_type": "code",
      "source": [
        "# Create an example dataset\n",
        "\n",
        "import pandas as pd\n",
        "\n",
        "df = pd.DataFrame([\n",
        "                ['Large', 'Sometimes good and sometimes bad', 'Stable','Combination skin', 1.1 ],\n",
        "                ['Medium', 'Mostly sound and restful', 'Gaining', 'Mostly dry, no lubrication', 2.1],\n",
        "                ['Thin', 'Mostly disturbed', 'Loosing', 'Mostly clear and oily', 3.1],\n",
        "                ['Large', 'Sometimes good and sometimes bad', 'Stable', 'Combination skin', 1.1]])\n",
        "\n",
        "df.columns = ['Build', 'Sleep', 'Weight_status', 'Skin', 'Response(Range)']"
      ],
      "metadata": {
        "id": "e4r66OE7YWqV"
      },
      "execution_count": 31,
      "outputs": []
    },
    {
      "cell_type": "code",
      "source": [
        "# View the first few rows of the dataset\n",
        "\n",
        "df.head()"
      ],
      "metadata": {
        "colab": {
          "base_uri": "https://localhost:8080/",
          "height": 175
        },
        "id": "Lj7pJmiEapyQ",
        "outputId": "60738704-1251-4875-afc1-ea23a2d600d3"
      },
      "execution_count": 32,
      "outputs": [
        {
          "output_type": "execute_result",
          "data": {
            "text/plain": [
              "    Build                             Sleep Weight_status  \\\n",
              "0   Large  Sometimes good and sometimes bad        Stable   \n",
              "1  Medium          Mostly sound and restful       Gaining   \n",
              "2    Thin                  Mostly disturbed       Loosing   \n",
              "3   Large  Sometimes good and sometimes bad        Stable   \n",
              "\n",
              "                         Skin  Response(Range)  \n",
              "0            Combination skin              1.1  \n",
              "1  Mostly dry, no lubrication              2.1  \n",
              "2       Mostly clear and oily              3.1  \n",
              "3            Combination skin              1.1  "
            ],
            "text/html": [
              "\n",
              "  <div id=\"df-bdf5b8e2-4238-4c36-9d03-2b5778d0e6fb\">\n",
              "    <div class=\"colab-df-container\">\n",
              "      <div>\n",
              "<style scoped>\n",
              "    .dataframe tbody tr th:only-of-type {\n",
              "        vertical-align: middle;\n",
              "    }\n",
              "\n",
              "    .dataframe tbody tr th {\n",
              "        vertical-align: top;\n",
              "    }\n",
              "\n",
              "    .dataframe thead th {\n",
              "        text-align: right;\n",
              "    }\n",
              "</style>\n",
              "<table border=\"1\" class=\"dataframe\">\n",
              "  <thead>\n",
              "    <tr style=\"text-align: right;\">\n",
              "      <th></th>\n",
              "      <th>Build</th>\n",
              "      <th>Sleep</th>\n",
              "      <th>Weight_status</th>\n",
              "      <th>Skin</th>\n",
              "      <th>Response(Range)</th>\n",
              "    </tr>\n",
              "  </thead>\n",
              "  <tbody>\n",
              "    <tr>\n",
              "      <th>0</th>\n",
              "      <td>Large</td>\n",
              "      <td>Sometimes good and sometimes bad</td>\n",
              "      <td>Stable</td>\n",
              "      <td>Combination skin</td>\n",
              "      <td>1.1</td>\n",
              "    </tr>\n",
              "    <tr>\n",
              "      <th>1</th>\n",
              "      <td>Medium</td>\n",
              "      <td>Mostly sound and restful</td>\n",
              "      <td>Gaining</td>\n",
              "      <td>Mostly dry, no lubrication</td>\n",
              "      <td>2.1</td>\n",
              "    </tr>\n",
              "    <tr>\n",
              "      <th>2</th>\n",
              "      <td>Thin</td>\n",
              "      <td>Mostly disturbed</td>\n",
              "      <td>Loosing</td>\n",
              "      <td>Mostly clear and oily</td>\n",
              "      <td>3.1</td>\n",
              "    </tr>\n",
              "    <tr>\n",
              "      <th>3</th>\n",
              "      <td>Large</td>\n",
              "      <td>Sometimes good and sometimes bad</td>\n",
              "      <td>Stable</td>\n",
              "      <td>Combination skin</td>\n",
              "      <td>1.1</td>\n",
              "    </tr>\n",
              "  </tbody>\n",
              "</table>\n",
              "</div>\n",
              "      <button class=\"colab-df-convert\" onclick=\"convertToInteractive('df-bdf5b8e2-4238-4c36-9d03-2b5778d0e6fb')\"\n",
              "              title=\"Convert this dataframe to an interactive table.\"\n",
              "              style=\"display:none;\">\n",
              "        \n",
              "  <svg xmlns=\"http://www.w3.org/2000/svg\" height=\"24px\"viewBox=\"0 0 24 24\"\n",
              "       width=\"24px\">\n",
              "    <path d=\"M0 0h24v24H0V0z\" fill=\"none\"/>\n",
              "    <path d=\"M18.56 5.44l.94 2.06.94-2.06 2.06-.94-2.06-.94-.94-2.06-.94 2.06-2.06.94zm-11 1L8.5 8.5l.94-2.06 2.06-.94-2.06-.94L8.5 2.5l-.94 2.06-2.06.94zm10 10l.94 2.06.94-2.06 2.06-.94-2.06-.94-.94-2.06-.94 2.06-2.06.94z\"/><path d=\"M17.41 7.96l-1.37-1.37c-.4-.4-.92-.59-1.43-.59-.52 0-1.04.2-1.43.59L10.3 9.45l-7.72 7.72c-.78.78-.78 2.05 0 2.83L4 21.41c.39.39.9.59 1.41.59.51 0 1.02-.2 1.41-.59l7.78-7.78 2.81-2.81c.8-.78.8-2.07 0-2.86zM5.41 20L4 18.59l7.72-7.72 1.47 1.35L5.41 20z\"/>\n",
              "  </svg>\n",
              "      </button>\n",
              "      \n",
              "  <style>\n",
              "    .colab-df-container {\n",
              "      display:flex;\n",
              "      flex-wrap:wrap;\n",
              "      gap: 12px;\n",
              "    }\n",
              "\n",
              "    .colab-df-convert {\n",
              "      background-color: #E8F0FE;\n",
              "      border: none;\n",
              "      border-radius: 50%;\n",
              "      cursor: pointer;\n",
              "      display: none;\n",
              "      fill: #1967D2;\n",
              "      height: 32px;\n",
              "      padding: 0 0 0 0;\n",
              "      width: 32px;\n",
              "    }\n",
              "\n",
              "    .colab-df-convert:hover {\n",
              "      background-color: #E2EBFA;\n",
              "      box-shadow: 0px 1px 2px rgba(60, 64, 67, 0.3), 0px 1px 3px 1px rgba(60, 64, 67, 0.15);\n",
              "      fill: #174EA6;\n",
              "    }\n",
              "\n",
              "    [theme=dark] .colab-df-convert {\n",
              "      background-color: #3B4455;\n",
              "      fill: #D2E3FC;\n",
              "    }\n",
              "\n",
              "    [theme=dark] .colab-df-convert:hover {\n",
              "      background-color: #434B5C;\n",
              "      box-shadow: 0px 1px 3px 1px rgba(0, 0, 0, 0.15);\n",
              "      filter: drop-shadow(0px 1px 2px rgba(0, 0, 0, 0.3));\n",
              "      fill: #FFFFFF;\n",
              "    }\n",
              "  </style>\n",
              "\n",
              "      <script>\n",
              "        const buttonEl =\n",
              "          document.querySelector('#df-bdf5b8e2-4238-4c36-9d03-2b5778d0e6fb button.colab-df-convert');\n",
              "        buttonEl.style.display =\n",
              "          google.colab.kernel.accessAllowed ? 'block' : 'none';\n",
              "\n",
              "        async function convertToInteractive(key) {\n",
              "          const element = document.querySelector('#df-bdf5b8e2-4238-4c36-9d03-2b5778d0e6fb');\n",
              "          const dataTable =\n",
              "            await google.colab.kernel.invokeFunction('convertToInteractive',\n",
              "                                                     [key], {});\n",
              "          if (!dataTable) return;\n",
              "\n",
              "          const docLinkHtml = 'Like what you see? Visit the ' +\n",
              "            '<a target=\"_blank\" href=https://colab.research.google.com/notebooks/data_table.ipynb>data table notebook</a>'\n",
              "            + ' to learn more about interactive tables.';\n",
              "          element.innerHTML = '';\n",
              "          dataTable['output_type'] = 'display_data';\n",
              "          await google.colab.output.renderOutput(dataTable, element);\n",
              "          const docLink = document.createElement('div');\n",
              "          docLink.innerHTML = docLinkHtml;\n",
              "          element.appendChild(docLink);\n",
              "        }\n",
              "      </script>\n",
              "    </div>\n",
              "  </div>\n",
              "  "
            ]
          },
          "metadata": {},
          "execution_count": 32
        }
      ]
    },
    {
      "cell_type": "code",
      "source": [
        "# View the summary of dataframe df\n",
        "\n",
        "print(df.info())"
      ],
      "metadata": {
        "colab": {
          "base_uri": "https://localhost:8080/"
        },
        "id": "TAJsjLqGa1su",
        "outputId": "804dd6f1-5b65-4b94-b5a1-69f1349a5d81"
      },
      "execution_count": 33,
      "outputs": [
        {
          "output_type": "stream",
          "name": "stdout",
          "text": [
            "<class 'pandas.core.frame.DataFrame'>\n",
            "RangeIndex: 4 entries, 0 to 3\n",
            "Data columns (total 5 columns):\n",
            " #   Column           Non-Null Count  Dtype  \n",
            "---  ------           --------------  -----  \n",
            " 0   Build            4 non-null      object \n",
            " 1   Sleep            4 non-null      object \n",
            " 2   Weight_status    4 non-null      object \n",
            " 3   Skin             4 non-null      object \n",
            " 4   Response(Range)  4 non-null      float64\n",
            "dtypes: float64(1), object(4)\n",
            "memory usage: 288.0+ bytes\n",
            "None\n"
          ]
        }
      ]
    },
    {
      "cell_type": "code",
      "source": [
        "# View the descriptive statistics\n",
        "\n",
        "print(df.describe())"
      ],
      "metadata": {
        "colab": {
          "base_uri": "https://localhost:8080/"
        },
        "id": "EmoLHtT6a8N3",
        "outputId": "4da922be-5185-4794-b307-857d43ce869b"
      },
      "execution_count": 34,
      "outputs": [
        {
          "output_type": "stream",
          "name": "stdout",
          "text": [
            "       Response(Range)\n",
            "count         4.000000\n",
            "mean          1.850000\n",
            "std           0.957427\n",
            "min           1.100000\n",
            "25%           1.100000\n",
            "50%           1.600000\n",
            "75%           2.350000\n",
            "max           3.100000\n"
          ]
        }
      ]
    },
    {
      "cell_type": "code",
      "source": [
        "# Make a copy of the dataframe df\n",
        "\n",
        "df1 = df.copy()\n",
        "\n",
        "# I have made a copy of the dataframe df as df1.\n",
        "\n",
        "# Now, I will work with df1."
      ],
      "metadata": {
        "id": "NF6X95f4bCqt"
      },
      "execution_count": 35,
      "outputs": []
    },
    {
      "cell_type": "code",
      "source": [
        "# View the first few rows of dataframe df1\n",
        "\n",
        "df1.head()"
      ],
      "metadata": {
        "colab": {
          "base_uri": "https://localhost:8080/",
          "height": 175
        },
        "id": "3uarws3ybIAF",
        "outputId": "71f60cd1-a37d-4171-a1a6-db0048705701"
      },
      "execution_count": 36,
      "outputs": [
        {
          "output_type": "execute_result",
          "data": {
            "text/plain": [
              "    Build                             Sleep Weight_status  \\\n",
              "0   Large  Sometimes good and sometimes bad        Stable   \n",
              "1  Medium          Mostly sound and restful       Gaining   \n",
              "2    Thin                  Mostly disturbed       Loosing   \n",
              "3   Large  Sometimes good and sometimes bad        Stable   \n",
              "\n",
              "                         Skin  Response(Range)  \n",
              "0            Combination skin              1.1  \n",
              "1  Mostly dry, no lubrication              2.1  \n",
              "2       Mostly clear and oily              3.1  \n",
              "3            Combination skin              1.1  "
            ],
            "text/html": [
              "\n",
              "  <div id=\"df-ec56556e-3162-4718-8e5a-9abd9c86779d\">\n",
              "    <div class=\"colab-df-container\">\n",
              "      <div>\n",
              "<style scoped>\n",
              "    .dataframe tbody tr th:only-of-type {\n",
              "        vertical-align: middle;\n",
              "    }\n",
              "\n",
              "    .dataframe tbody tr th {\n",
              "        vertical-align: top;\n",
              "    }\n",
              "\n",
              "    .dataframe thead th {\n",
              "        text-align: right;\n",
              "    }\n",
              "</style>\n",
              "<table border=\"1\" class=\"dataframe\">\n",
              "  <thead>\n",
              "    <tr style=\"text-align: right;\">\n",
              "      <th></th>\n",
              "      <th>Build</th>\n",
              "      <th>Sleep</th>\n",
              "      <th>Weight_status</th>\n",
              "      <th>Skin</th>\n",
              "      <th>Response(Range)</th>\n",
              "    </tr>\n",
              "  </thead>\n",
              "  <tbody>\n",
              "    <tr>\n",
              "      <th>0</th>\n",
              "      <td>Large</td>\n",
              "      <td>Sometimes good and sometimes bad</td>\n",
              "      <td>Stable</td>\n",
              "      <td>Combination skin</td>\n",
              "      <td>1.1</td>\n",
              "    </tr>\n",
              "    <tr>\n",
              "      <th>1</th>\n",
              "      <td>Medium</td>\n",
              "      <td>Mostly sound and restful</td>\n",
              "      <td>Gaining</td>\n",
              "      <td>Mostly dry, no lubrication</td>\n",
              "      <td>2.1</td>\n",
              "    </tr>\n",
              "    <tr>\n",
              "      <th>2</th>\n",
              "      <td>Thin</td>\n",
              "      <td>Mostly disturbed</td>\n",
              "      <td>Loosing</td>\n",
              "      <td>Mostly clear and oily</td>\n",
              "      <td>3.1</td>\n",
              "    </tr>\n",
              "    <tr>\n",
              "      <th>3</th>\n",
              "      <td>Large</td>\n",
              "      <td>Sometimes good and sometimes bad</td>\n",
              "      <td>Stable</td>\n",
              "      <td>Combination skin</td>\n",
              "      <td>1.1</td>\n",
              "    </tr>\n",
              "  </tbody>\n",
              "</table>\n",
              "</div>\n",
              "      <button class=\"colab-df-convert\" onclick=\"convertToInteractive('df-ec56556e-3162-4718-8e5a-9abd9c86779d')\"\n",
              "              title=\"Convert this dataframe to an interactive table.\"\n",
              "              style=\"display:none;\">\n",
              "        \n",
              "  <svg xmlns=\"http://www.w3.org/2000/svg\" height=\"24px\"viewBox=\"0 0 24 24\"\n",
              "       width=\"24px\">\n",
              "    <path d=\"M0 0h24v24H0V0z\" fill=\"none\"/>\n",
              "    <path d=\"M18.56 5.44l.94 2.06.94-2.06 2.06-.94-2.06-.94-.94-2.06-.94 2.06-2.06.94zm-11 1L8.5 8.5l.94-2.06 2.06-.94-2.06-.94L8.5 2.5l-.94 2.06-2.06.94zm10 10l.94 2.06.94-2.06 2.06-.94-2.06-.94-.94-2.06-.94 2.06-2.06.94z\"/><path d=\"M17.41 7.96l-1.37-1.37c-.4-.4-.92-.59-1.43-.59-.52 0-1.04.2-1.43.59L10.3 9.45l-7.72 7.72c-.78.78-.78 2.05 0 2.83L4 21.41c.39.39.9.59 1.41.59.51 0 1.02-.2 1.41-.59l7.78-7.78 2.81-2.81c.8-.78.8-2.07 0-2.86zM5.41 20L4 18.59l7.72-7.72 1.47 1.35L5.41 20z\"/>\n",
              "  </svg>\n",
              "      </button>\n",
              "      \n",
              "  <style>\n",
              "    .colab-df-container {\n",
              "      display:flex;\n",
              "      flex-wrap:wrap;\n",
              "      gap: 12px;\n",
              "    }\n",
              "\n",
              "    .colab-df-convert {\n",
              "      background-color: #E8F0FE;\n",
              "      border: none;\n",
              "      border-radius: 50%;\n",
              "      cursor: pointer;\n",
              "      display: none;\n",
              "      fill: #1967D2;\n",
              "      height: 32px;\n",
              "      padding: 0 0 0 0;\n",
              "      width: 32px;\n",
              "    }\n",
              "\n",
              "    .colab-df-convert:hover {\n",
              "      background-color: #E2EBFA;\n",
              "      box-shadow: 0px 1px 2px rgba(60, 64, 67, 0.3), 0px 1px 3px 1px rgba(60, 64, 67, 0.15);\n",
              "      fill: #174EA6;\n",
              "    }\n",
              "\n",
              "    [theme=dark] .colab-df-convert {\n",
              "      background-color: #3B4455;\n",
              "      fill: #D2E3FC;\n",
              "    }\n",
              "\n",
              "    [theme=dark] .colab-df-convert:hover {\n",
              "      background-color: #434B5C;\n",
              "      box-shadow: 0px 1px 3px 1px rgba(0, 0, 0, 0.15);\n",
              "      filter: drop-shadow(0px 1px 2px rgba(0, 0, 0, 0.3));\n",
              "      fill: #FFFFFF;\n",
              "    }\n",
              "  </style>\n",
              "\n",
              "      <script>\n",
              "        const buttonEl =\n",
              "          document.querySelector('#df-ec56556e-3162-4718-8e5a-9abd9c86779d button.colab-df-convert');\n",
              "        buttonEl.style.display =\n",
              "          google.colab.kernel.accessAllowed ? 'block' : 'none';\n",
              "\n",
              "        async function convertToInteractive(key) {\n",
              "          const element = document.querySelector('#df-ec56556e-3162-4718-8e5a-9abd9c86779d');\n",
              "          const dataTable =\n",
              "            await google.colab.kernel.invokeFunction('convertToInteractive',\n",
              "                                                     [key], {});\n",
              "          if (!dataTable) return;\n",
              "\n",
              "          const docLinkHtml = 'Like what you see? Visit the ' +\n",
              "            '<a target=\"_blank\" href=https://colab.research.google.com/notebooks/data_table.ipynb>data table notebook</a>'\n",
              "            + ' to learn more about interactive tables.';\n",
              "          element.innerHTML = '';\n",
              "          dataTable['output_type'] = 'display_data';\n",
              "          await google.colab.output.renderOutput(dataTable, element);\n",
              "          const docLink = document.createElement('div');\n",
              "          docLink.innerHTML = docLinkHtml;\n",
              "          element.appendChild(docLink);\n",
              "        }\n",
              "      </script>\n",
              "    </div>\n",
              "  </div>\n",
              "  "
            ]
          },
          "metadata": {},
          "execution_count": 36
        }
      ]
    },
    {
      "cell_type": "code",
      "source": [
        "# Encode Court Speed column labels into integer values\n",
        "\n",
        "from sklearn.preprocessing import LabelEncoder\n",
        "\n",
        "le = LabelEncoder()\n",
        "\n",
        "y1 = le.fit_transform(df1['Skin'].values)\n",
        "\n",
        "print(\"Encoded Skin column labels are:\\n\", (y1))"
      ],
      "metadata": {
        "colab": {
          "base_uri": "https://localhost:8080/"
        },
        "id": "DTiaHNztbQN6",
        "outputId": "242460d7-0d36-427b-a831-12771c25e799"
      },
      "execution_count": 37,
      "outputs": [
        {
          "output_type": "stream",
          "name": "stdout",
          "text": [
            "Encoded Skin column labels are:\n",
            " [0 2 1 0]\n"
          ]
        }
      ]
    },
    {
      "cell_type": "code",
      "source": [
        "# Print class labels\n",
        "\n",
        "print(\"The class labels are:\\n\", (le.classes_))"
      ],
      "metadata": {
        "colab": {
          "base_uri": "https://localhost:8080/"
        },
        "id": "Y6qxfrOPbk9Z",
        "outputId": "8b9963d0-d5d3-4d89-ec5a-303962b947c1"
      },
      "execution_count": 38,
      "outputs": [
        {
          "output_type": "stream",
          "name": "stdout",
          "text": [
            "The class labels are:\n",
            " ['Combination skin' 'Mostly clear and oily' 'Mostly dry, no lubrication']\n"
          ]
        }
      ]
    },
    {
      "cell_type": "code",
      "source": [
        "# Suppress future warnings\n",
        "\n",
        "import warnings\n",
        "\n",
        "warnings.simplefilter(action = \"ignore\", category = DeprecationWarning)"
      ],
      "metadata": {
        "id": "l7RSrd-jb0Qe"
      },
      "execution_count": 39,
      "outputs": []
    },
    {
      "cell_type": "code",
      "source": [
        "# Invert the encoded class labels to original class labels\n",
        "\n",
        "print(\"The inverted original class labels are:\\n\",\n",
        "      le.inverse_transform([0,2,1,0]))"
      ],
      "metadata": {
        "colab": {
          "base_uri": "https://localhost:8080/"
        },
        "id": "Gwenv_g6b2Mu",
        "outputId": "f2d13b97-4498-4660-f0d5-c0f082521f66"
      },
      "execution_count": 40,
      "outputs": [
        {
          "output_type": "stream",
          "name": "stdout",
          "text": [
            "The inverted original class labels are:\n",
            " ['Combination skin' 'Mostly dry, no lubrication' 'Mostly clear and oily'\n",
            " 'Combination skin']\n"
          ]
        }
      ]
    },
    {
      "cell_type": "code",
      "source": [
        "# Encode Build column values into integer values\n",
        "\n",
        "X1 = df1[['Build', 'Response(Range)']].values\n",
        "\n",
        "title_le = LabelEncoder()\n",
        "\n",
        "X1[:, 0] = title_le.fit_transform(X1[:, 0])\n",
        "\n",
        "print(X1)"
      ],
      "metadata": {
        "colab": {
          "base_uri": "https://localhost:8080/"
        },
        "id": "xAD_p5CjcCrQ",
        "outputId": "0f737e3f-8fea-4848-f5fd-680005f9b935"
      },
      "execution_count": 41,
      "outputs": [
        {
          "output_type": "stream",
          "name": "stdout",
          "text": [
            "[[0 1.1]\n",
            " [1 2.1]\n",
            " [2 3.1]\n",
            " [0 1.1]]\n"
          ]
        }
      ]
    },
    {
      "cell_type": "code",
      "source": [
        "# Encode the converted integer values of Build column values into one-hot vectors\n",
        "\n",
        "from sklearn.preprocessing import OneHotEncoder\n",
        "\n",
        "ohe = OneHotEncoder()\n",
        "\n",
        "ohe.fit_transform(X1).toarray()"
      ],
      "metadata": {
        "colab": {
          "base_uri": "https://localhost:8080/"
        },
        "id": "cD_XS0WvcehH",
        "outputId": "58b1d2f4-e2d9-479b-d775-1520aed39237"
      },
      "execution_count": 42,
      "outputs": [
        {
          "output_type": "execute_result",
          "data": {
            "text/plain": [
              "array([[1., 0., 0., 1., 0., 0.],\n",
              "       [0., 1., 0., 0., 1., 0.],\n",
              "       [0., 0., 1., 0., 0., 1.],\n",
              "       [1., 0., 0., 1., 0., 0.]])"
            ]
          },
          "metadata": {},
          "execution_count": 42
        }
      ]
    },
    {
      "cell_type": "code",
      "source": [
        "# Copy the dataframe df2\n",
        "\n",
        "df2 = df.copy()"
      ],
      "metadata": {
        "id": "OctzEBqfdn5A"
      },
      "execution_count": 43,
      "outputs": []
    },
    {
      "cell_type": "code",
      "source": [
        "# View the first few rows of df2\n",
        "\n",
        "df2.head()"
      ],
      "metadata": {
        "colab": {
          "base_uri": "https://localhost:8080/",
          "height": 175
        },
        "id": "79jXu4wLdpQ8",
        "outputId": "6ffe7e52-aa6e-4251-afe5-fabc36ffbf9d"
      },
      "execution_count": 44,
      "outputs": [
        {
          "output_type": "execute_result",
          "data": {
            "text/plain": [
              "    Build                             Sleep Weight_status  \\\n",
              "0   Large  Sometimes good and sometimes bad        Stable   \n",
              "1  Medium          Mostly sound and restful       Gaining   \n",
              "2    Thin                  Mostly disturbed       Loosing   \n",
              "3   Large  Sometimes good and sometimes bad        Stable   \n",
              "\n",
              "                         Skin  Response(Range)  \n",
              "0            Combination skin              1.1  \n",
              "1  Mostly dry, no lubrication              2.1  \n",
              "2       Mostly clear and oily              3.1  \n",
              "3            Combination skin              1.1  "
            ],
            "text/html": [
              "\n",
              "  <div id=\"df-71a7693d-b92e-43c1-9ab9-37b94f7d5b69\">\n",
              "    <div class=\"colab-df-container\">\n",
              "      <div>\n",
              "<style scoped>\n",
              "    .dataframe tbody tr th:only-of-type {\n",
              "        vertical-align: middle;\n",
              "    }\n",
              "\n",
              "    .dataframe tbody tr th {\n",
              "        vertical-align: top;\n",
              "    }\n",
              "\n",
              "    .dataframe thead th {\n",
              "        text-align: right;\n",
              "    }\n",
              "</style>\n",
              "<table border=\"1\" class=\"dataframe\">\n",
              "  <thead>\n",
              "    <tr style=\"text-align: right;\">\n",
              "      <th></th>\n",
              "      <th>Build</th>\n",
              "      <th>Sleep</th>\n",
              "      <th>Weight_status</th>\n",
              "      <th>Skin</th>\n",
              "      <th>Response(Range)</th>\n",
              "    </tr>\n",
              "  </thead>\n",
              "  <tbody>\n",
              "    <tr>\n",
              "      <th>0</th>\n",
              "      <td>Large</td>\n",
              "      <td>Sometimes good and sometimes bad</td>\n",
              "      <td>Stable</td>\n",
              "      <td>Combination skin</td>\n",
              "      <td>1.1</td>\n",
              "    </tr>\n",
              "    <tr>\n",
              "      <th>1</th>\n",
              "      <td>Medium</td>\n",
              "      <td>Mostly sound and restful</td>\n",
              "      <td>Gaining</td>\n",
              "      <td>Mostly dry, no lubrication</td>\n",
              "      <td>2.1</td>\n",
              "    </tr>\n",
              "    <tr>\n",
              "      <th>2</th>\n",
              "      <td>Thin</td>\n",
              "      <td>Mostly disturbed</td>\n",
              "      <td>Loosing</td>\n",
              "      <td>Mostly clear and oily</td>\n",
              "      <td>3.1</td>\n",
              "    </tr>\n",
              "    <tr>\n",
              "      <th>3</th>\n",
              "      <td>Large</td>\n",
              "      <td>Sometimes good and sometimes bad</td>\n",
              "      <td>Stable</td>\n",
              "      <td>Combination skin</td>\n",
              "      <td>1.1</td>\n",
              "    </tr>\n",
              "  </tbody>\n",
              "</table>\n",
              "</div>\n",
              "      <button class=\"colab-df-convert\" onclick=\"convertToInteractive('df-71a7693d-b92e-43c1-9ab9-37b94f7d5b69')\"\n",
              "              title=\"Convert this dataframe to an interactive table.\"\n",
              "              style=\"display:none;\">\n",
              "        \n",
              "  <svg xmlns=\"http://www.w3.org/2000/svg\" height=\"24px\"viewBox=\"0 0 24 24\"\n",
              "       width=\"24px\">\n",
              "    <path d=\"M0 0h24v24H0V0z\" fill=\"none\"/>\n",
              "    <path d=\"M18.56 5.44l.94 2.06.94-2.06 2.06-.94-2.06-.94-.94-2.06-.94 2.06-2.06.94zm-11 1L8.5 8.5l.94-2.06 2.06-.94-2.06-.94L8.5 2.5l-.94 2.06-2.06.94zm10 10l.94 2.06.94-2.06 2.06-.94-2.06-.94-.94-2.06-.94 2.06-2.06.94z\"/><path d=\"M17.41 7.96l-1.37-1.37c-.4-.4-.92-.59-1.43-.59-.52 0-1.04.2-1.43.59L10.3 9.45l-7.72 7.72c-.78.78-.78 2.05 0 2.83L4 21.41c.39.39.9.59 1.41.59.51 0 1.02-.2 1.41-.59l7.78-7.78 2.81-2.81c.8-.78.8-2.07 0-2.86zM5.41 20L4 18.59l7.72-7.72 1.47 1.35L5.41 20z\"/>\n",
              "  </svg>\n",
              "      </button>\n",
              "      \n",
              "  <style>\n",
              "    .colab-df-container {\n",
              "      display:flex;\n",
              "      flex-wrap:wrap;\n",
              "      gap: 12px;\n",
              "    }\n",
              "\n",
              "    .colab-df-convert {\n",
              "      background-color: #E8F0FE;\n",
              "      border: none;\n",
              "      border-radius: 50%;\n",
              "      cursor: pointer;\n",
              "      display: none;\n",
              "      fill: #1967D2;\n",
              "      height: 32px;\n",
              "      padding: 0 0 0 0;\n",
              "      width: 32px;\n",
              "    }\n",
              "\n",
              "    .colab-df-convert:hover {\n",
              "      background-color: #E2EBFA;\n",
              "      box-shadow: 0px 1px 2px rgba(60, 64, 67, 0.3), 0px 1px 3px 1px rgba(60, 64, 67, 0.15);\n",
              "      fill: #174EA6;\n",
              "    }\n",
              "\n",
              "    [theme=dark] .colab-df-convert {\n",
              "      background-color: #3B4455;\n",
              "      fill: #D2E3FC;\n",
              "    }\n",
              "\n",
              "    [theme=dark] .colab-df-convert:hover {\n",
              "      background-color: #434B5C;\n",
              "      box-shadow: 0px 1px 3px 1px rgba(0, 0, 0, 0.15);\n",
              "      filter: drop-shadow(0px 1px 2px rgba(0, 0, 0, 0.3));\n",
              "      fill: #FFFFFF;\n",
              "    }\n",
              "  </style>\n",
              "\n",
              "      <script>\n",
              "        const buttonEl =\n",
              "          document.querySelector('#df-71a7693d-b92e-43c1-9ab9-37b94f7d5b69 button.colab-df-convert');\n",
              "        buttonEl.style.display =\n",
              "          google.colab.kernel.accessAllowed ? 'block' : 'none';\n",
              "\n",
              "        async function convertToInteractive(key) {\n",
              "          const element = document.querySelector('#df-71a7693d-b92e-43c1-9ab9-37b94f7d5b69');\n",
              "          const dataTable =\n",
              "            await google.colab.kernel.invokeFunction('convertToInteractive',\n",
              "                                                     [key], {});\n",
              "          if (!dataTable) return;\n",
              "\n",
              "          const docLinkHtml = 'Like what you see? Visit the ' +\n",
              "            '<a target=\"_blank\" href=https://colab.research.google.com/notebooks/data_table.ipynb>data table notebook</a>'\n",
              "            + ' to learn more about interactive tables.';\n",
              "          element.innerHTML = '';\n",
              "          dataTable['output_type'] = 'display_data';\n",
              "          await google.colab.output.renderOutput(dataTable, element);\n",
              "          const docLink = document.createElement('div');\n",
              "          docLink.innerHTML = docLinkHtml;\n",
              "          element.appendChild(docLink);\n",
              "        }\n",
              "      </script>\n",
              "    </div>\n",
              "  </div>\n",
              "  "
            ]
          },
          "metadata": {},
          "execution_count": 44
        }
      ]
    },
    {
      "cell_type": "code",
      "source": [
        "# Slice the Response column\n",
        "\n",
        "X2 = df2.iloc[:, 4]"
      ],
      "metadata": {
        "id": "BhMExv-adtEm"
      },
      "execution_count": 21,
      "outputs": []
    },
    {
      "cell_type": "code",
      "source": [
        "X2.head()"
      ],
      "metadata": {
        "colab": {
          "base_uri": "https://localhost:8080/"
        },
        "id": "0YUMHiNXd1Vn",
        "outputId": "6ab0ba45-b12f-4e75-b93a-e2b58d850f2d"
      },
      "execution_count": 45,
      "outputs": [
        {
          "output_type": "execute_result",
          "data": {
            "text/plain": [
              "0    1\n",
              "1    2\n",
              "2    3\n",
              "3    1\n",
              "Name: Response(Range), dtype: int64"
            ]
          },
          "metadata": {},
          "execution_count": 45
        }
      ]
    },
    {
      "cell_type": "code",
      "source": [
        "# Change the data type of X2 to integer 64\n",
        "\n",
        "X2 = X2.astype('int64')"
      ],
      "metadata": {
        "id": "17ojbsKwd5Ls"
      },
      "execution_count": 46,
      "outputs": []
    },
    {
      "cell_type": "code",
      "source": [
        "# Check the data type of X2\n",
        "\n",
        "X2.dtype"
      ],
      "metadata": {
        "colab": {
          "base_uri": "https://localhost:8080/"
        },
        "id": "11Q2kl2eeA5H",
        "outputId": "af946e47-5ae0-491a-d908-a2d51ff51d5a"
      },
      "execution_count": 47,
      "outputs": [
        {
          "output_type": "execute_result",
          "data": {
            "text/plain": [
              "dtype('int64')"
            ]
          },
          "metadata": {},
          "execution_count": 47
        }
      ]
    },
    {
      "cell_type": "code",
      "source": [
        "# Encode X2 into one-hot-vectors with LabelBinarizer\n",
        "\n",
        "from sklearn.preprocessing import LabelBinarizer\n",
        "\n",
        "lb = LabelBinarizer()\n",
        "\n",
        "y2 = lb.fit_transform(X2)\n",
        "\n",
        "print(y2)"
      ],
      "metadata": {
        "colab": {
          "base_uri": "https://localhost:8080/"
        },
        "id": "vZ64CTwleIIg",
        "outputId": "fa50f823-261d-4e54-e5d2-3960b876410b"
      },
      "execution_count": 25,
      "outputs": [
        {
          "output_type": "stream",
          "name": "stdout",
          "text": [
            "[[1 0 0]\n",
            " [0 1 0]\n",
            " [0 0 1]\n",
            " [1 0 0]]\n"
          ]
        }
      ]
    },
    {
      "cell_type": "code",
      "source": [
        "print(\"The class labels are:\\n\", lb.classes_)"
      ],
      "metadata": {
        "colab": {
          "base_uri": "https://localhost:8080/"
        },
        "id": "zwKmMBdkeP3u",
        "outputId": "f2f5b06b-53a5-4759-8479-30648b23af7a"
      },
      "execution_count": 48,
      "outputs": [
        {
          "output_type": "stream",
          "name": "stdout",
          "text": [
            "The class labels are:\n",
            " [1 2 3]\n"
          ]
        }
      ]
    },
    {
      "cell_type": "code",
      "source": [
        "Health_df = [ \n",
        "            {'Build': 'Large', 'Response': 1.1},\n",
        "            {'Build': 'Medium',     'Response': 2.1},\n",
        "            {'Build': 'Thin',       'Response': 3.1},\n",
        "            {'Build': 'Large',         'Response': 1.1}\n",
        "        ]\n",
        "\n",
        "# We can use DictVectorizer to do a binary one-hot encoding\n",
        "\n",
        "from sklearn.feature_extraction import DictVectorizer\n",
        "\n",
        "dv = DictVectorizer(sparse = False)\n",
        "\n",
        "X_dv = dv.fit_transform(Health_df)\n",
        "\n",
        "print(X_dv)"
      ],
      "metadata": {
        "colab": {
          "base_uri": "https://localhost:8080/"
        },
        "id": "3X0_OHAvebSu",
        "outputId": "c9a21984-a0ce-4627-f2c9-48dc8dd9dae9"
      },
      "execution_count": 50,
      "outputs": [
        {
          "output_type": "stream",
          "name": "stdout",
          "text": [
            "[[1.  0.  0.  1.1]\n",
            " [0.  1.  0.  2.1]\n",
            " [0.  0.  1.  3.1]\n",
            " [1.  0.  0.  1.1]]\n"
          ]
        }
      ]
    },
    {
      "cell_type": "code",
      "source": [
        "# inspect the feature names\n",
        "\n",
        "print(\"The feature names of Health_df data structure are:\\n\" , dv.get_feature_names())"
      ],
      "metadata": {
        "colab": {
          "base_uri": "https://localhost:8080/"
        },
        "id": "y47lI1MDg9Hv",
        "outputId": "a9b6d882-23ba-4fdb-b1a2-83065045bc14"
      },
      "execution_count": 51,
      "outputs": [
        {
          "output_type": "stream",
          "name": "stdout",
          "text": [
            "The feature names of Health_df data structure are:\n",
            " ['Build=Large', 'Build=Medium', 'Build=Thin', 'Response']\n"
          ]
        },
        {
          "output_type": "stream",
          "name": "stderr",
          "text": [
            "/usr/local/lib/python3.7/dist-packages/sklearn/utils/deprecation.py:87: FutureWarning: Function get_feature_names is deprecated; get_feature_names is deprecated in 1.0 and will be removed in 1.2. Please use get_feature_names_out instead.\n",
            "  warnings.warn(msg, category=FutureWarning)\n"
          ]
        }
      ]
    },
    {
      "cell_type": "code",
      "source": [
        "# View the transformed data\n",
        "\n",
        "Fitness = ['Weight',\n",
        "          'Build',\n",
        "        'weight relates Build']\n",
        "\n",
        "\n",
        "# Use CountVectorizer to convert data\n",
        "\n",
        "from sklearn.feature_extraction.text import CountVectorizer\n",
        "\n",
        "cv = CountVectorizer()\n",
        "\n",
        "X_cv = cv.fit_transform(Fitness)\n",
        "\n",
        "print(X_cv.toarray())"
      ],
      "metadata": {
        "colab": {
          "base_uri": "https://localhost:8080/"
        },
        "id": "4rmw-0V2h8tM",
        "outputId": "41731f5f-4aba-4841-ecd8-58025fae5dfe"
      },
      "execution_count": 58,
      "outputs": [
        {
          "output_type": "stream",
          "name": "stdout",
          "text": [
            "[[0 0 1]\n",
            " [1 0 0]\n",
            " [1 1 1]]\n"
          ]
        }
      ]
    },
    {
      "cell_type": "code",
      "source": [
        "# Inspect the feature names\n",
        "\n",
        "print(\"The feature names of the text document Fitness are:\\n\", cv.get_feature_names())"
      ],
      "metadata": {
        "colab": {
          "base_uri": "https://localhost:8080/"
        },
        "id": "pS6zHdn2h-ew",
        "outputId": "98a626ba-e589-4333-d52b-420fa5c21115"
      },
      "execution_count": 59,
      "outputs": [
        {
          "output_type": "stream",
          "name": "stdout",
          "text": [
            "The feature names of the text document Fitness are:\n",
            " ['build', 'relates', 'weight']\n"
          ]
        },
        {
          "output_type": "stream",
          "name": "stderr",
          "text": [
            "/usr/local/lib/python3.7/dist-packages/sklearn/utils/deprecation.py:87: FutureWarning: Function get_feature_names is deprecated; get_feature_names is deprecated in 1.0 and will be removed in 1.2. Please use get_feature_names_out instead.\n",
            "  warnings.warn(msg, category=FutureWarning)\n"
          ]
        }
      ]
    },
    {
      "cell_type": "code",
      "source": [
        "from sklearn.feature_extraction.text import TfidfVectorizer\n",
        "\n",
        "Fitness = ['Weight',\n",
        "          'Build',\n",
        "        'weight relates Build']\n",
        "\n",
        "vec1 =  TfidfVectorizer()\n",
        "\n",
        "X_tfv = vec1.fit_transform(Fitness)\n",
        "\n",
        "print(X_tfv.toarray())"
      ],
      "metadata": {
        "colab": {
          "base_uri": "https://localhost:8080/"
        },
        "id": "IFgScnxtiDdw",
        "outputId": "e629a9d5-1f06-426e-9252-066ddbfddb7c"
      },
      "execution_count": 60,
      "outputs": [
        {
          "output_type": "stream",
          "name": "stdout",
          "text": [
            "[[0.         0.         1.        ]\n",
            " [1.         0.         0.        ]\n",
            " [0.51785612 0.68091856 0.51785612]]\n"
          ]
        }
      ]
    },
    {
      "cell_type": "code",
      "source": [
        "# get feature names\n",
        "\n",
        "print(vec1.get_feature_names())"
      ],
      "metadata": {
        "colab": {
          "base_uri": "https://localhost:8080/"
        },
        "id": "nYn03v2_iJ8N",
        "outputId": "8094936e-9f96-4e26-decd-03cd7fa09f98"
      },
      "execution_count": 61,
      "outputs": [
        {
          "output_type": "stream",
          "name": "stdout",
          "text": [
            "['build', 'relates', 'weight']\n"
          ]
        },
        {
          "output_type": "stream",
          "name": "stderr",
          "text": [
            "/usr/local/lib/python3.7/dist-packages/sklearn/utils/deprecation.py:87: FutureWarning: Function get_feature_names is deprecated; get_feature_names is deprecated in 1.0 and will be removed in 1.2. Please use get_feature_names_out instead.\n",
            "  warnings.warn(msg, category=FutureWarning)\n"
          ]
        }
      ]
    },
    {
      "cell_type": "code",
      "source": [
        "# Calculate inverse document frequencies (idf)\n",
        "\n",
        "from sklearn.feature_extraction.text import TfidfTransformer\n",
        "\n",
        "vec2 =  TfidfTransformer()\n",
        "\n",
        "X_tft = vec2.fit_transform(X_cv)\n",
        "\n",
        "print(X_tft.toarray())"
      ],
      "metadata": {
        "colab": {
          "base_uri": "https://localhost:8080/"
        },
        "id": "h0BB7zn4iQxQ",
        "outputId": "311b4f31-37dc-4d0c-ae07-5cf2c54b10d5"
      },
      "execution_count": 62,
      "outputs": [
        {
          "output_type": "stream",
          "name": "stdout",
          "text": [
            "[[0.         0.         1.        ]\n",
            " [1.         0.         0.        ]\n",
            " [0.51785612 0.68091856 0.51785612]]\n"
          ]
        }
      ]
    }
  ]
}